{
 "cells": [
  {
   "cell_type": "markdown",
   "metadata": {},
   "source": [
    "# General operator class\n",
    "Operator object contain a string identifying its operation.\n",
    "Want to have $\\hat{O}\\times\\hat{Q} = \\hat{O}\\hat{Q}$"
   ]
  },
  {
   "cell_type": "code",
   "execution_count": 49,
   "metadata": {},
   "outputs": [],
   "source": [
    "class Operator:\n",
    "    def __init__(self):\n",
    "        self.op = 'U'\n",
    "        self.unit = 1\n",
    "        self.im = False\n",
    "\n",
    "    def __mul__(self,other):\n",
    "        self.op += other.op\n",
    "        return self\n",
    "\n",
    "    def __str__(self):\n",
    "        if self.op == '':\n",
    "            return 'I'\n",
    "        else:\n",
    "            return self.op\n",
    "    \n",
    "    def __invert__(self): # Assume unitary\n",
    "        return self"
   ]
  },
  {
   "cell_type": "markdown",
   "metadata": {},
   "source": [
    "## Special operators"
   ]
  },
  {
   "cell_type": "markdown",
   "metadata": {},
   "source": [
    "### Identity operator\n",
    "Have\n",
    "$$\n",
    "\\hat{I} = \\begin{bmatrix} 1 & 0 \\\\ 0 & 1 \\end{bmatrix}\n",
    "$$\n",
    "Where $\\hat{U}\\times\\hat{I} = \\hat{I}\\times\\hat{U} = \\hat{U}$. Solve this by setting it to empty string."
   ]
  },
  {
   "cell_type": "code",
   "execution_count": 52,
   "metadata": {},
   "outputs": [],
   "source": [
    "class Identity(Operator):\n",
    "    def __init__(self):\n",
    "        self.op = ''"
   ]
  },
  {
   "cell_type": "code",
   "execution_count": 53,
   "metadata": {},
   "outputs": [
    {
     "name": "stdout",
     "output_type": "stream",
     "text": [
      "UI = U\n",
      "IU = U\n",
      "II = I\n"
     ]
    }
   ],
   "source": [
    "U = Operator()\n",
    "I = Identity()\n",
    "print('UI =',U*I)\n",
    "U = Operator()\n",
    "I = Identity()\n",
    "print('IU =',I*U)\n",
    "I = Identity()\n",
    "I2 = Identity()\n",
    "print('II =',I*I2)"
   ]
  },
  {
   "cell_type": "markdown",
   "metadata": {},
   "source": [
    "### Pauli operators\n",
    "Have the Pauli operators $\\sigma_x$,$\\sigma_y$ and $\\sigma_z$ with\n",
    "$$\n",
    "\\sigma_x = \\begin{bmatrix} 0 & 1 \\\\ 1 & 0 \\end{bmatrix}\n",
    ",\\quad\n",
    "\\sigma_y = \\begin{bmatrix} 0 & -i \\\\ i & 0 \\end{bmatrix}\n",
    ",\\quad\n",
    "\\sigma_z = \\begin{bmatrix} 1 & 0 \\\\ 0 & -1 \\end{bmatrix}\n",
    "$$\n",
    "\n",
    "Want to have unitarity, so that\n",
    "$$\n",
    "    \\sigma_n^\\dagger = \\sigma_n \\rightarrow \\sigma_n^2 = \\hat{I}\n",
    "$$\n",
    "\n",
    "Furthermore we want \n",
    "$$\n",
    "\\sigma_x\\sigma_y = i\\sigma_z \\quad \\sigma_y\\sigma_x = -i\\sigma_z\n",
    "\\\\\n",
    "\\sigma_y\\sigma_z = i\\sigma_x \\quad \\sigma_z\\sigma_y = -i\\sigma_x\n",
    "\\\\\n",
    "\\sigma_z\\sigma_x = i\\sigma_y \\quad \\sigma_x\\sigma_z = -i\\sigma_y\n",
    "$$\n",
    "Note that by setting $x=0$, $y=1$ and $z=2$ the new operator from the above identities is $new = n - n'$.\n"
   ]
  },
  {
   "cell_type": "code",
   "execution_count": 47,
   "metadata": {},
   "outputs": [],
   "source": [
    "class Pauli(Operator):\n",
    "    def __init__(self,operation):\n",
    "        self.op = operation.upper()\n",
    "        self.axis = ['X','Y','Z']\n",
    "        self.ind = self.axis.index(self.op)\n",
    "        self.unit = 1\n",
    "        self.im = False\n",
    "        \n",
    "    def __mul__(self,other):\n",
    "        if other.op == self.op:\n",
    "            self.op = ''\n",
    "            return 'I'\n",
    "        elif other.op != self.op and other.op in self.axis:\n",
    "            op_ind = 3 - (self.ind + other.ind)\n",
    "            self.op = self.axis[op_ind]\n",
    "            self.im = not self.im\n",
    "            if 3*self.ind + other.ind not in [1,5,6]:\n",
    "                self.unit *= -1\n",
    "            return self\n",
    "        else:\n",
    "            self.op += other.op\n",
    "            return self\n",
    "        \n",
    "    def __str__(self):\n",
    "        if self.op == '':\n",
    "            return 'I'\n",
    "        else:\n",
    "            return '{}{}{}'.format('-' if self.unit==-1 else '',\n",
    "                                   'i' if self.im else '',\n",
    "                                   self.op)"
   ]
  },
  {
   "cell_type": "code",
   "execution_count": 44,
   "metadata": {},
   "outputs": [
    {
     "name": "stdout",
     "output_type": "stream",
     "text": [
      "X inverted -> X\n",
      "X^2 = I\n",
      "\n",
      "Y inverted -> Y\n",
      "Y^2 = I\n",
      "\n",
      "Z inverted -> Z\n",
      "Z^2 = I\n",
      "XY = iZ  , YX = -iZ\n",
      "YZ = iX  , ZY = -iX\n",
      "ZX = iY  , XZ = -iY\n"
     ]
    }
   ],
   "source": [
    "X = Pauli('x')\n",
    "Y = Pauli('y')\n",
    "Z = Pauli('z')\n",
    "\n",
    "print(X,'inverted ->', ~X)\n",
    "print('X^2 =',(X*~X))\n",
    "\n",
    "print('')\n",
    "print(Y,'inverted ->', ~Y)\n",
    "print('Y^2 =',(Y*Y))\n",
    "\n",
    "print('')\n",
    "print(Z,'inverted ->', ~Z)\n",
    "print('Z^2 =',(Z*Z))\n",
    "\n",
    "X = Pauli('x')\n",
    "Y = Pauli('y')\n",
    "Z = Pauli('z')\n",
    "print('XY =',X*Y,' , YX =',Y*X)\n",
    "X = Pauli('x')\n",
    "Y = Pauli('y')\n",
    "Z = Pauli('z')\n",
    "print('YZ =',Y*Z,' , ZY =',Z*Y)\n",
    "X = Pauli('x')\n",
    "Y = Pauli('y')\n",
    "Z = Pauli('z')\n",
    "print('ZX =',Z*X,' , XZ =',X*Z)"
   ]
  },
  {
   "cell_type": "markdown",
   "metadata": {},
   "source": [
    "### Raise and lower operator\n",
    "Have the qubit raising and lowering operators defined as\n",
    "$$\n",
    "\\sigma_+ = \\begin{bmatrix} 0 & 0 \\\\ 1 & 0 \\end{bmatrix} = \\sigma_x + i\\sigma_y,\\quad \\sigma_- = \\begin{bmatrix} 0 & 1 \\\\ 0 & 0 \\end{bmatrix} = \\sigma_x - i\\sigma_y\n",
    "$$\n",
    "with the actions \n",
    "$$\n",
    "\\sigma_+|0> = |1>, \\quad \\sigma_+|1> = 0\n",
    "\\\\\n",
    "\\sigma_-|0> = 0, \\quad \\sigma_-|1> = |0>\n",
    "$$\n",
    "and the identities\n",
    "\n",
    "$$\n",
    "\\sigma_+^\\dagger = \\sigma_-, \\quad \\sigma_-^\\dagger = \\sigma_+\n",
    "\\\\\n",
    "\\sigma_+^2 = 0, \\quad \\sigma_-^2 = 0\n",
    "\\\\\n",
    "\\sigma_+ \\sigma_- = \\frac{1}{2}(\\hat{I} -\\sigma_z), \\quad \\sigma_- \\sigma_+ = \\frac{1}{2}(\\hat{I} +\\sigma_z)\n",
    "\\\\\n",
    "\\sigma_+\\sigma_x = \\frac{1}{2}(\\hat{I} -\\sigma_z), \\quad \\sigma_x\\sigma_+ = \\frac{1}{2}(\\hat{I} +\\sigma_z), \\quad \\sigma_-\\sigma_x = \\frac{1}{2}(\\hat{I} +\\sigma_z), \\quad \\sigma_x\\sigma_- = \\frac{1}{2}(\\hat{I} -\\sigma_z)\n",
    "\\\\\n",
    "\\sigma_+\\sigma_y = -\\frac{i}{2}(\\hat{I}-\\sigma_z), \\quad \\sigma_y\\sigma_+ = -\\frac{i}{2}(\\hat{I}+\\sigma_z), \\quad \\sigma_-\\sigma_y = \\frac{i}{2}(\\hat{I}+\\sigma_z), \\quad \\sigma_y\\sigma_- = \\frac{i}{2}(\\hat{I}-\\sigma_z)\n",
    "\\\\\n",
    "\\sigma_+\\sigma_z = \\sigma_+, \\quad \\sigma_z\\sigma_+ = -\\sigma_+, \\quad \\sigma_-\\sigma_z = -\\sigma_-, \\quad \\sigma_z\\sigma_- = \\sigma_-\n",
    "$$"
   ]
  },
  {
   "cell_type": "code",
   "execution_count": null,
   "metadata": {},
   "outputs": [],
   "source": [
    "class Ladder(Operator):\n",
    "    def __init__(self,operation):\n",
    "        self.op = operation\n",
    "        self.values = ['+','-']\n",
    "        self.ind = self.values.index(self.op)\n",
    "        \n",
    "    def __mul__(self,other):\n",
    "        if other.op == self.op:\n",
    "            self.op = '0'\n",
    "        return self\n",
    "    \n",
    "    def __invert__(self): \n",
    "        self.ind = (self.ind + 1)%2\n",
    "        self.op = self.values[self.ind]\n",
    "        return self.op"
   ]
  },
  {
   "cell_type": "code",
   "execution_count": null,
   "metadata": {},
   "outputs": [],
   "source": []
  },
  {
   "cell_type": "code",
   "execution_count": null,
   "metadata": {},
   "outputs": [],
   "source": []
  },
  {
   "cell_type": "code",
   "execution_count": null,
   "metadata": {},
   "outputs": [],
   "source": []
  }
 ],
 "metadata": {
  "kernelspec": {
   "display_name": "Python 3",
   "language": "python",
   "name": "python3"
  },
  "language_info": {
   "codemirror_mode": {
    "name": "ipython",
    "version": 3
   },
   "file_extension": ".py",
   "mimetype": "text/x-python",
   "name": "python",
   "nbconvert_exporter": "python",
   "pygments_lexer": "ipython3",
   "version": "3.6.8"
  }
 },
 "nbformat": 4,
 "nbformat_minor": 2
}

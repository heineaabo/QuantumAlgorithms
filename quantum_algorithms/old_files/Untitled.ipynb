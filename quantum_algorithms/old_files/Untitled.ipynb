{
 "cells": [
  {
   "cell_type": "code",
   "execution_count": 93,
   "metadata": {},
   "outputs": [],
   "source": [
    "from Qoperator import Operator"
   ]
  },
  {
   "cell_type": "code",
   "execution_count": null,
   "metadata": {},
   "outputs": [],
   "source": []
  },
  {
   "cell_type": "code",
   "execution_count": 94,
   "metadata": {},
   "outputs": [
    {
     "name": "stdout",
     "output_type": "stream",
     "text": [
      "0.2i*x\n"
     ]
    }
   ],
   "source": [
    "o1 = Operator('z')\n",
    "o1.factor = 0.2\n",
    "o1.im = True\n",
    "o2 = Operator('y')\n",
    "o2.im = True\n",
    "a = [o1*o2]\n",
    "if len(a) > 1:\n",
    "    print(a[0],a[1])\n",
    "else:\n",
    "    print(a[0])"
   ]
  },
  {
   "cell_type": "code",
   "execution_count": 95,
   "metadata": {},
   "outputs": [
    {
     "name": "stdout",
     "output_type": "stream",
     "text": [
      "0.3*x 0.3i*y\n",
      "ix y\n"
     ]
    }
   ],
   "source": [
    "p = Operator('+')\n",
    "p.factor = 0.3\n",
    "m = Operator('-')\n",
    "m.im = True\n",
    "a = p.ladder2pauli()\n",
    "b = m.ladder2pauli()\n",
    "print(a[0],a[1])\n",
    "print(b[0],b[1])"
   ]
  },
  {
   "cell_type": "code",
   "execution_count": null,
   "metadata": {},
   "outputs": [],
   "source": []
  },
  {
   "cell_type": "code",
   "execution_count": null,
   "metadata": {},
   "outputs": [],
   "source": []
  }
 ],
 "metadata": {
  "kernelspec": {
   "display_name": "Python 3",
   "language": "python",
   "name": "python3"
  },
  "language_info": {
   "codemirror_mode": {
    "name": "ipython",
    "version": 3
   },
   "file_extension": ".py",
   "mimetype": "text/x-python",
   "name": "python",
   "nbconvert_exporter": "python",
   "pygments_lexer": "ipython3",
   "version": "3.6.8"
  }
 },
 "nbformat": 4,
 "nbformat_minor": 2
}
